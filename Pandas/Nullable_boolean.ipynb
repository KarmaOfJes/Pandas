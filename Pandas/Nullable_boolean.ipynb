{
 "cells": [
  {
   "cell_type": "code",
   "execution_count": 1,
   "id": "necessary-frequency",
   "metadata": {},
   "outputs": [],
   "source": [
    "import numpy as np\n",
    "import pandas as pd"
   ]
  },
  {
   "cell_type": "markdown",
   "id": "solar-september",
   "metadata": {},
   "source": [
    "# Indexing with NA values\n",
    "pandas allows indexing with NA values in a boolean array, which are treated as False.\n",
    "\n",
    "Changed in version 1.0.2."
   ]
  },
  {
   "cell_type": "code",
   "execution_count": 3,
   "id": "compressed-triple",
   "metadata": {},
   "outputs": [
    {
     "data": {
      "text/plain": [
       "0    1\n",
       "dtype: int64"
      ]
     },
     "execution_count": 3,
     "metadata": {},
     "output_type": "execute_result"
    }
   ],
   "source": [
    "s = pd.Series([1, 2, 3])\n",
    "mask = pd.array([True, False, pd.NA], dtype=\"boolean\")\n",
    "s[mask]"
   ]
  },
  {
   "cell_type": "markdown",
   "id": "ceramic-liberal",
   "metadata": {},
   "source": [
    "If you would prefer to keep the NA values you can manually fill them with fillna(True)."
   ]
  },
  {
   "cell_type": "code",
   "execution_count": 5,
   "id": "incoming-closing",
   "metadata": {},
   "outputs": [
    {
     "data": {
      "text/plain": [
       "0    1\n",
       "2    3\n",
       "dtype: int64"
      ]
     },
     "execution_count": 5,
     "metadata": {},
     "output_type": "execute_result"
    }
   ],
   "source": [
    "s[mask.fillna(True)]"
   ]
  },
  {
   "cell_type": "markdown",
   "id": "coupled-guitar",
   "metadata": {},
   "source": [
    "# Kleene logical operations\n",
    "arrays.BooleanArray implements Kleene Logic (sometimes called three-value logic) for logical operations like & (and), | (or) and ^ (exclusive-or).\n",
    "\n",
    "This table demonstrates the results for every combination. These operations are symmetrical, so flipping the left- and right-hand side makes no difference in the result."
   ]
  },
  {
   "attachments": {
    "image-2.png": {
     "image/png": "[encoded data removed]"
    },
    "image.png": {
     "image/png": "[encoded data removed]"
    }
   },
   "cell_type": "markdown",
   "id": "dangerous-beauty",
   "metadata": {},
   "source": [
    "![image.png](attachment:image.png)\n",
    "![image-2.png](attachment:image-2.png)"
   ]
  },
  {
   "cell_type": "markdown",
   "id": "million-fetish",
   "metadata": {},
   "source": [
    "When an NA is present in an operation, the output value is NA only if the result cannot be determined solely based on the other input. For example, True | NA is True, because both True | True and True | False are True. In that case, we don’t actually need to consider the value of the NA.\n",
    "\n",
    "On the other hand, True & NA is NA. The result depends on whether the NA really is True or False, since True & True is True, but True & False is False, so we can’t determine the output.\n",
    "\n",
    "This differs from how np.nan behaves in logical operations. pandas treated np.nan is always false in the output.\n",
    "\n",
    "In or"
   ]
  },
  {
   "cell_type": "code",
   "execution_count": 6,
   "id": "acquired-dakota",
   "metadata": {},
   "outputs": [
    {
     "data": {
      "text/plain": [
       "0     True\n",
       "1     True\n",
       "2    False\n",
       "dtype: bool"
      ]
     },
     "execution_count": 6,
     "metadata": {},
     "output_type": "execute_result"
    }
   ],
   "source": [
    "pd.Series([True, False, np.nan], dtype=\"object\") | True"
   ]
  },
  {
   "cell_type": "code",
   "execution_count": 7,
   "id": "passing-thong",
   "metadata": {},
   "outputs": [
    {
     "data": {
      "text/plain": [
       "0    True\n",
       "1    True\n",
       "2    True\n",
       "dtype: boolean"
      ]
     },
     "execution_count": 7,
     "metadata": {},
     "output_type": "execute_result"
    }
   ],
   "source": [
    "pd.Series([True, False, np.nan], dtype=\"boolean\") | True"
   ]
  },
  {
   "cell_type": "markdown",
   "id": "social-sullivan",
   "metadata": {},
   "source": [
    "In and"
   ]
  },
  {
   "cell_type": "code",
   "execution_count": 8,
   "id": "diagnostic-nursing",
   "metadata": {},
   "outputs": [
    {
     "data": {
      "text/plain": [
       "0     True\n",
       "1    False\n",
       "2    False\n",
       "dtype: bool"
      ]
     },
     "execution_count": 8,
     "metadata": {},
     "output_type": "execute_result"
    }
   ],
   "source": [
    "pd.Series([True, False, np.nan], dtype=\"object\") & True"
   ]
  },
  {
   "cell_type": "code",
   "execution_count": 10,
   "id": "latest-better",
   "metadata": {},
   "outputs": [
    {
     "data": {
      "text/plain": [
       "0     True\n",
       "1    False\n",
       "2     <NA>\n",
       "dtype: boolean"
      ]
     },
     "execution_count": 10,
     "metadata": {},
     "output_type": "execute_result"
    }
   ],
   "source": [
    "pd.Series([True, False, np.nan], dtype=\"boolean\") & True"
   ]
  },
  {
   "cell_type": "code",
   "execution_count": null,
   "id": "weird-hospital",
   "metadata": {},
   "outputs": [],
   "source": []
  }
 ],
 "metadata": {
  "kernelspec": {
   "display_name": "base_ml",
   "language": "python",
   "name": "base_ml"
  },
  "language_info": {
   "codemirror_mode": {
    "name": "ipython",
    "version": 3
   },
   "file_extension": ".py",
   "mimetype": "text/x-python",
   "name": "python",
   "nbconvert_exporter": "python",
   "pygments_lexer": "ipython3",
   "version": "3.8.5"
  }
 },
 "nbformat": 4,
 "nbformat_minor": 5
}
