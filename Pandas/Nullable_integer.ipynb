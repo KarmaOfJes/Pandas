{
 "cells": [
  {
   "cell_type": "code",
   "execution_count": 1,
   "id": "alternative-simple",
   "metadata": {},
   "outputs": [],
   "source": [
    "import pandas as pd\n",
    "import numpy as np"
   ]
  },
  {
   "cell_type": "markdown",
   "id": "subtle-sodium",
   "metadata": {},
   "source": [
    "Changed in version 1.0.0: Now uses pandas.NA as the missing value rather than numpy.nan.\n",
    "\n",
    "In Working with missing data, we saw that pandas primarily uses NaN to represent missing data. Because NaN is a float, this forces an array of integers with any missing values to become floating point. In some cases, this may not matter much. But if your integer column is, say, an identifier, casting to float can be problematic. Some integers cannot even be represented as floating point numbers."
   ]
  },
  {
   "cell_type": "markdown",
   "id": "serial-lingerie",
   "metadata": {},
   "source": [
    "# Construction\n",
    "pandas can represent integer data with possibly missing values using arrays.IntegerArray. This is an extension types implemented within pandas."
   ]
  },
  {
   "cell_type": "code",
   "execution_count": 2,
   "id": "controlled-condition",
   "metadata": {},
   "outputs": [
    {
     "data": {
      "text/plain": [
       "<IntegerArray>\n",
       "[1, 2, <NA>]\n",
       "Length: 3, dtype: Int64"
      ]
     },
     "execution_count": 2,
     "metadata": {},
     "output_type": "execute_result"
    }
   ],
   "source": [
    "arr = pd.array([1, 2, None], dtype=pd.Int64Dtype())\n",
    "arr"
   ]
  },
  {
   "cell_type": "markdown",
   "id": "expensive-professor",
   "metadata": {},
   "source": [
    "Or the string alias \"Int64\" (note the capital \"I\", to differentiate from NumPy’s 'int64' dtype:"
   ]
  },
  {
   "cell_type": "code",
   "execution_count": 3,
   "id": "biblical-settle",
   "metadata": {},
   "outputs": [
    {
     "data": {
      "text/plain": [
       "<IntegerArray>\n",
       "[1, 2, <NA>]\n",
       "Length: 3, dtype: Int64"
      ]
     },
     "execution_count": 3,
     "metadata": {},
     "output_type": "execute_result"
    }
   ],
   "source": [
    "pd.array([1, 2, np.nan], dtype=\"Int64\")"
   ]
  },
  {
   "cell_type": "markdown",
   "id": "several-unemployment",
   "metadata": {},
   "source": [
    "All NA-like values are replaced with pandas.NA."
   ]
  },
  {
   "cell_type": "code",
   "execution_count": 4,
   "id": "critical-huntington",
   "metadata": {},
   "outputs": [
    {
     "data": {
      "text/plain": [
       "<IntegerArray>\n",
       "[1, 2, <NA>, <NA>, <NA>]\n",
       "Length: 5, dtype: Int64"
      ]
     },
     "execution_count": 4,
     "metadata": {},
     "output_type": "execute_result"
    }
   ],
   "source": [
    "pd.array([1, 2, np.nan, None, pd.NA], dtype=\"Int64\")"
   ]
  },
  {
   "cell_type": "markdown",
   "id": "greatest-bedroom",
   "metadata": {},
   "source": [
    "This array can be stored in a DataFrame or Series like any NumPy array."
   ]
  },
  {
   "cell_type": "code",
   "execution_count": 5,
   "id": "impaired-bubble",
   "metadata": {},
   "outputs": [
    {
     "data": {
      "text/plain": [
       "0       1\n",
       "1       2\n",
       "2    <NA>\n",
       "dtype: Int64"
      ]
     },
     "execution_count": 5,
     "metadata": {},
     "output_type": "execute_result"
    }
   ],
   "source": [
    "pd.Series(arr)"
   ]
  },
  {
   "cell_type": "markdown",
   "id": "absent-african",
   "metadata": {},
   "source": [
    "You can also pass the list-like object to the Series constructor with the dtype."
   ]
  },
  {
   "cell_type": "markdown",
   "id": "educational-oakland",
   "metadata": {},
   "source": [
    "Currently pandas.array() and pandas.Series() use different rules for dtype inference. pandas.array() will infer a nullable- integer dtype"
   ]
  },
  {
   "cell_type": "code",
   "execution_count": 6,
   "id": "shared-homeless",
   "metadata": {},
   "outputs": [
    {
     "data": {
      "text/plain": [
       "<IntegerArray>\n",
       "[1, <NA>]\n",
       "Length: 2, dtype: Int64"
      ]
     },
     "execution_count": 6,
     "metadata": {},
     "output_type": "execute_result"
    }
   ],
   "source": [
    "pd.array([1, None])"
   ]
  },
  {
   "cell_type": "code",
   "execution_count": 7,
   "id": "regulation-picnic",
   "metadata": {},
   "outputs": [
    {
     "data": {
      "text/plain": [
       "<IntegerArray>\n",
       "[1, 2]\n",
       "Length: 2, dtype: Int64"
      ]
     },
     "execution_count": 7,
     "metadata": {},
     "output_type": "execute_result"
    }
   ],
   "source": [
    " pd.array([1, 2])"
   ]
  },
  {
   "cell_type": "markdown",
   "id": "initial-mayor",
   "metadata": {},
   "source": [
    "For backwards-compatibility, Series infers these as either integer or float dtype"
   ]
  },
  {
   "cell_type": "code",
   "execution_count": 8,
   "id": "dried-chuck",
   "metadata": {},
   "outputs": [
    {
     "data": {
      "text/plain": [
       "0    1.0\n",
       "1    NaN\n",
       "dtype: float64"
      ]
     },
     "execution_count": 8,
     "metadata": {},
     "output_type": "execute_result"
    }
   ],
   "source": [
    "pd.Series([1, None])"
   ]
  },
  {
   "cell_type": "code",
   "execution_count": 9,
   "id": "statistical-prophet",
   "metadata": {},
   "outputs": [
    {
     "data": {
      "text/plain": [
       "0    1\n",
       "1    2\n",
       "dtype: int64"
      ]
     },
     "execution_count": 9,
     "metadata": {},
     "output_type": "execute_result"
    }
   ],
   "source": [
    "pd.Series([1, 2])"
   ]
  },
  {
   "cell_type": "markdown",
   "id": "phantom-morocco",
   "metadata": {},
   "source": [
    "We recommend explicitly providing the dtype to avoid confusion."
   ]
  },
  {
   "cell_type": "code",
   "execution_count": 10,
   "id": "mineral-convertible",
   "metadata": {},
   "outputs": [
    {
     "data": {
      "text/plain": [
       "<IntegerArray>\n",
       "[1, <NA>]\n",
       "Length: 2, dtype: Int64"
      ]
     },
     "execution_count": 10,
     "metadata": {},
     "output_type": "execute_result"
    }
   ],
   "source": [
    "pd.array([1, None], dtype=\"Int64\")"
   ]
  },
  {
   "cell_type": "code",
   "execution_count": 11,
   "id": "adult-luxembourg",
   "metadata": {},
   "outputs": [
    {
     "data": {
      "text/plain": [
       "0       1\n",
       "1    <NA>\n",
       "dtype: Int64"
      ]
     },
     "execution_count": 11,
     "metadata": {},
     "output_type": "execute_result"
    }
   ],
   "source": [
    "pd.Series([1, None], dtype=\"Int64\")"
   ]
  },
  {
   "cell_type": "markdown",
   "id": "happy-seven",
   "metadata": {},
   "source": [
    "In the future, we may provide an option for Series to infer a nullable-integer dtype."
   ]
  },
  {
   "cell_type": "markdown",
   "id": "tough-finding",
   "metadata": {},
   "source": [
    "# Operations\n",
    "Operations involving an integer array will behave similar to NumPy arrays. Missing values will be propagated, and the data will be coerced to another dtype if needed."
   ]
  },
  {
   "cell_type": "code",
   "execution_count": 12,
   "id": "failing-canal",
   "metadata": {},
   "outputs": [],
   "source": [
    "s = pd.Series([1, 2, None], dtype=\"Int64\")"
   ]
  },
  {
   "cell_type": "code",
   "execution_count": 13,
   "id": "respiratory-output",
   "metadata": {},
   "outputs": [
    {
     "data": {
      "text/plain": [
       "0       2\n",
       "1       3\n",
       "2    <NA>\n",
       "dtype: Int64"
      ]
     },
     "execution_count": 13,
     "metadata": {},
     "output_type": "execute_result"
    }
   ],
   "source": [
    "# arithmetic\n",
    "s + 1"
   ]
  },
  {
   "cell_type": "code",
   "execution_count": 14,
   "id": "secondary-contest",
   "metadata": {},
   "outputs": [
    {
     "data": {
      "text/plain": [
       "0     True\n",
       "1    False\n",
       "2     <NA>\n",
       "dtype: boolean"
      ]
     },
     "execution_count": 14,
     "metadata": {},
     "output_type": "execute_result"
    }
   ],
   "source": [
    "# comparison\n",
    "s == 1"
   ]
  },
  {
   "cell_type": "code",
   "execution_count": 15,
   "id": "medieval-zoning",
   "metadata": {},
   "outputs": [
    {
     "data": {
      "text/plain": [
       "1       2\n",
       "2    <NA>\n",
       "dtype: Int64"
      ]
     },
     "execution_count": 15,
     "metadata": {},
     "output_type": "execute_result"
    }
   ],
   "source": [
    "# indexing\n",
    "s.iloc[1:3]"
   ]
  },
  {
   "cell_type": "code",
   "execution_count": 16,
   "id": "encouraging-freedom",
   "metadata": {},
   "outputs": [
    {
     "data": {
      "text/plain": [
       "0    <NA>\n",
       "1       4\n",
       "2    <NA>\n",
       "dtype: Int64"
      ]
     },
     "execution_count": 16,
     "metadata": {},
     "output_type": "execute_result"
    }
   ],
   "source": [
    "# operate with other dtypes\n",
    "s + s.iloc[1:3].astype(\"Int8\")"
   ]
  },
  {
   "cell_type": "code",
   "execution_count": 17,
   "id": "monetary-cursor",
   "metadata": {},
   "outputs": [
    {
     "data": {
      "text/plain": [
       "0    1.01\n",
       "1    2.01\n",
       "2    <NA>\n",
       "dtype: Float64"
      ]
     },
     "execution_count": 17,
     "metadata": {},
     "output_type": "execute_result"
    }
   ],
   "source": [
    "# coerce when needed\n",
    "s + 0.01"
   ]
  },
  {
   "cell_type": "markdown",
   "id": "pharmaceutical-request",
   "metadata": {},
   "source": [
    "These dtypes can operate as part of DataFrame."
   ]
  },
  {
   "cell_type": "code",
   "execution_count": 19,
   "id": "upset-avenue",
   "metadata": {},
   "outputs": [
    {
     "data": {
      "text/html": [
       "<div>\n",
       "<style scoped>\n",
       "    .dataframe tbody tr th:only-of-type {\n",
       "        vertical-align: middle;\n",
       "    }\n",
       "\n",
       "    .dataframe tbody tr th {\n",
       "        vertical-align: top;\n",
       "    }\n",
       "\n",
       "    .dataframe thead th {\n",
       "        text-align: right;\n",
       "    }\n",
       "</style>\n",
       "<table border=\"1\" class=\"dataframe\">\n",
       "  <thead>\n",
       "    <tr style=\"text-align: right;\">\n",
       "      <th></th>\n",
       "      <th>A</th>\n",
       "      <th>B</th>\n",
       "      <th>C</th>\n",
       "    </tr>\n",
       "  </thead>\n",
       "  <tbody>\n",
       "    <tr>\n",
       "      <th>0</th>\n",
       "      <td>1</td>\n",
       "      <td>1</td>\n",
       "      <td>a</td>\n",
       "    </tr>\n",
       "    <tr>\n",
       "      <th>1</th>\n",
       "      <td>2</td>\n",
       "      <td>1</td>\n",
       "      <td>a</td>\n",
       "    </tr>\n",
       "    <tr>\n",
       "      <th>2</th>\n",
       "      <td>&lt;NA&gt;</td>\n",
       "      <td>3</td>\n",
       "      <td>b</td>\n",
       "    </tr>\n",
       "  </tbody>\n",
       "</table>\n",
       "</div>"
      ],
      "text/plain": [
       "      A  B  C\n",
       "0     1  1  a\n",
       "1     2  1  a\n",
       "2  <NA>  3  b"
      ]
     },
     "execution_count": 19,
     "metadata": {},
     "output_type": "execute_result"
    }
   ],
   "source": [
    "df = pd.DataFrame({\"A\": s, \"B\": [1, 1, 3], \"C\": list(\"aab\")})\n",
    "df"
   ]
  },
  {
   "cell_type": "code",
   "execution_count": 20,
   "id": "determined-ecology",
   "metadata": {},
   "outputs": [
    {
     "data": {
      "text/plain": [
       "A     Int64\n",
       "B     int64\n",
       "C    object\n",
       "dtype: object"
      ]
     },
     "execution_count": 20,
     "metadata": {},
     "output_type": "execute_result"
    }
   ],
   "source": [
    "df.dtypes"
   ]
  },
  {
   "cell_type": "markdown",
   "id": "prostate-sarah",
   "metadata": {},
   "source": [
    "These dtypes can be merged & reshaped & casted."
   ]
  },
  {
   "cell_type": "code",
   "execution_count": 21,
   "id": "documentary-house",
   "metadata": {},
   "outputs": [
    {
     "data": {
      "text/plain": [
       "A     Int64\n",
       "B     int64\n",
       "C    object\n",
       "dtype: object"
      ]
     },
     "execution_count": 21,
     "metadata": {},
     "output_type": "execute_result"
    }
   ],
   "source": [
    "pd.concat([df[[\"A\"]], df[[\"B\", \"C\"]]], axis=1).dtypes"
   ]
  },
  {
   "cell_type": "code",
   "execution_count": 22,
   "id": "caroline-introduction",
   "metadata": {},
   "outputs": [
    {
     "data": {
      "text/plain": [
       "0    1.0\n",
       "1    2.0\n",
       "2    NaN\n",
       "Name: A, dtype: float64"
      ]
     },
     "execution_count": 22,
     "metadata": {},
     "output_type": "execute_result"
    }
   ],
   "source": [
    "df[\"A\"].astype(float)"
   ]
  },
  {
   "cell_type": "markdown",
   "id": "mighty-counter",
   "metadata": {},
   "source": [
    "Reduction and groupby operations such as ‘sum’ work as well."
   ]
  },
  {
   "cell_type": "code",
   "execution_count": 23,
   "id": "intense-difference",
   "metadata": {},
   "outputs": [
    {
     "data": {
      "text/plain": [
       "A      3\n",
       "B      5\n",
       "C    aab\n",
       "dtype: object"
      ]
     },
     "execution_count": 23,
     "metadata": {},
     "output_type": "execute_result"
    }
   ],
   "source": [
    "df.sum()"
   ]
  },
  {
   "cell_type": "code",
   "execution_count": 24,
   "id": "daily-canada",
   "metadata": {},
   "outputs": [
    {
     "data": {
      "text/plain": [
       "B\n",
       "1    3\n",
       "3    0\n",
       "Name: A, dtype: Int64"
      ]
     },
     "execution_count": 24,
     "metadata": {},
     "output_type": "execute_result"
    }
   ],
   "source": [
    "df.groupby(\"B\").A.sum()"
   ]
  },
  {
   "cell_type": "markdown",
   "id": "respected-sociology",
   "metadata": {},
   "source": [
    "# Scalar NA Value\n",
    "arrays.IntegerArray uses pandas.NA as its scalar missing value. Slicing a single element that’s missing will return pandas.NA"
   ]
  },
  {
   "cell_type": "code",
   "execution_count": 25,
   "id": "numeric-secretariat",
   "metadata": {},
   "outputs": [
    {
     "data": {
      "text/plain": [
       "<NA>"
      ]
     },
     "execution_count": 25,
     "metadata": {},
     "output_type": "execute_result"
    }
   ],
   "source": [
    "a = pd.array([1, None], dtype=\"Int64\")\n",
    "a[1]"
   ]
  },
  {
   "cell_type": "code",
   "execution_count": null,
   "id": "reflected-bones",
   "metadata": {},
   "outputs": [],
   "source": []
  }
 ],
 "metadata": {
  "kernelspec": {
   "display_name": "base_ml",
   "language": "python",
   "name": "base_ml"
  },
  "language_info": {
   "codemirror_mode": {
    "name": "ipython",
    "version": 3
   },
   "file_extension": ".py",
   "mimetype": "text/x-python",
   "name": "python",
   "nbconvert_exporter": "python",
   "pygments_lexer": "ipython3",
   "version": "3.8.5"
  }
 },
 "nbformat": 4,
 "nbformat_minor": 5
}
